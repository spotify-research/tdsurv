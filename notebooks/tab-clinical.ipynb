{
 "cells": [
  {
   "cell_type": "markdown",
   "id": "5a38f7af",
   "metadata": {},
   "source": [
    "# Summary statistics for clinical datasets"
   ]
  },
  {
   "cell_type": "code",
   "execution_count": 1,
   "id": "12b2d9cc",
   "metadata": {},
   "outputs": [],
   "source": [
    "import numpy as np\n",
    "import pickle"
   ]
  },
  {
   "cell_type": "markdown",
   "id": "fe069604",
   "metadata": {},
   "source": [
    "## PBC2"
   ]
  },
  {
   "cell_type": "code",
   "execution_count": 2,
   "id": "a012045f",
   "metadata": {},
   "outputs": [],
   "source": [
    "with open(\"../data/pbc-seqs.pkl\", \"rb\") as f:\n",
    "    data = pickle.load(f)\n",
    "\n",
    "seqs = data[\"seqs\"]\n",
    "cs = data[\"cs\"]\n",
    "ts = data[\"ts\"]\n",
    "\n",
    "n, horizon, d = seqs.shape"
   ]
  },
  {
   "cell_type": "code",
   "execution_count": 3,
   "id": "73dea2cf",
   "metadata": {},
   "outputs": [
    {
     "name": "stdout",
     "output_type": "stream",
     "text": [
      "num. sequences: 312\n",
      "median length:  5.0\n",
      "max length:     16\n",
      "num. feats:     15\n",
      "perc. censored: 55.1 %\n"
     ]
    }
   ],
   "source": [
    "med = np.median(ts + cs)\n",
    "max_ = np.max(ts + cs)\n",
    "perc_cens = 100 * np.mean(cs)\n",
    "\n",
    "print(f\"\"\"\n",
    "num. sequences: {n}\n",
    "median length:  {med}\n",
    "max length:     {max_}\n",
    "num. feats:     {d}\n",
    "perc. censored: {perc_cens:.1f} %\n",
    "\"\"\".strip())"
   ]
  },
  {
   "cell_type": "markdown",
   "id": "8b9bf955",
   "metadata": {},
   "source": [
    "## AIDS"
   ]
  },
  {
   "cell_type": "code",
   "execution_count": 4,
   "id": "a7a397b3",
   "metadata": {},
   "outputs": [],
   "source": [
    "with open(\"../data/aids-seqs.pkl\", \"rb\") as f:\n",
    "    data = pickle.load(f)\n",
    "\n",
    "seqs = data[\"seqs\"]\n",
    "cs = data[\"cs\"]\n",
    "ts = data[\"ts\"]\n",
    "\n",
    "n, horizon, d = seqs.shape"
   ]
  },
  {
   "cell_type": "code",
   "execution_count": 5,
   "id": "4849b896",
   "metadata": {},
   "outputs": [
    {
     "name": "stdout",
     "output_type": "stream",
     "text": [
      "num. sequences: 467\n",
      "median length:  3.0\n",
      "max length:     5\n",
      "num. feats:     5\n",
      "perc. censored: 59.7 %\n"
     ]
    }
   ],
   "source": [
    "med = np.median(ts + cs)\n",
    "max_ = np.max(ts + cs)\n",
    "perc_cens = 100 * np.mean(cs)\n",
    "\n",
    "print(f\"\"\"\n",
    "num. sequences: {n}\n",
    "median length:  {med}\n",
    "max length:     {max_}\n",
    "num. feats:     {d}\n",
    "perc. censored: {perc_cens:.1f} %\n",
    "\"\"\".strip())"
   ]
  }
 ],
 "metadata": {
  "kernelspec": {
   "display_name": "Python 3 (ipykernel)",
   "language": "python",
   "name": "python3"
  },
  "language_info": {
   "codemirror_mode": {
    "name": "ipython",
    "version": 3
   },
   "file_extension": ".py",
   "mimetype": "text/x-python",
   "name": "python",
   "nbconvert_exporter": "python",
   "pygments_lexer": "ipython3",
   "version": "3.9.12"
  }
 },
 "nbformat": 4,
 "nbformat_minor": 5
}
