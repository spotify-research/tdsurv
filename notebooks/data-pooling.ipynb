{
 "cells": [
  {
   "cell_type": "markdown",
   "id": "b7030af0",
   "metadata": {},
   "source": [
    "# The power of data pooling\n",
    "\n",
    "This notebook illustrates the effectiveness of pooling data.\n",
    "\n",
    "- There are two central states (with 10 replicas each) that sequences stay on until they terminate: A & B.\n",
    "    - A has a hazard of 0.02\n",
    "    - B has a hazard of 0.04.\n",
    "  With an observation window of 5 steps (after which the observation is censored) it's very hard to distinguish which state is better in terms of survival -> you really need a lot of data to get it right.\n",
    "- There are N treatments states.\n",
    "  They vary simply in the probability of transitioning to A vs. to B.\n",
    "  The probability of moving to A induces a natural ordering of treatments\n",
    "  \n",
    "We sample 10 sequences starting at each treatment state.\n",
    "We model survival using a Cox PH model, with a feature vector that's a one-hot encoding of the state ID.\n",
    "We measure the accuracy of a model by the kendall-tau rank correlation between estimated treatment effect and true \n",
    "treatment effect.\n",
    "\n",
    "**Conclusion**: using TD, the correlation between estimated and true effect increases as the number of treatment increases.\n",
    "With MC, this is not the case."
   ]
  },
  {
   "cell_type": "code",
   "execution_count": 1,
   "id": "10fe1dbe",
   "metadata": {},
   "outputs": [],
   "source": [
    "import jax\n",
    "import jax.numpy as jnp\n",
    "import matplotlib.pyplot as plt\n",
    "import numpy as np\n",
    "import pickle\n",
    "\n",
    "from functools import partial\n",
    "from scipy.stats import rankdata, kendalltau\n",
    "\n",
    "from tdsurv.base import Model\n",
    "from tdsurv import unroll"
   ]
  },
  {
   "cell_type": "code",
   "execution_count": 2,
   "id": "53c5f8bf",
   "metadata": {},
   "outputs": [],
   "source": [
    "def corr(params1, params2):\n",
    "    ranks1 = rankdata(params1, method=\"average\")\n",
    "    ranks2 = rankdata(params2, method=\"average\")\n",
    "    tau, _ = kendalltau(ranks1, ranks2)\n",
    "    return tau\n",
    "\n",
    "class SparseCoxPH(Model):\n",
    "\n",
    "    \"\"\"Space-efficient representation of Cox PH model with one-hot feature vectors.\"\"\"\n",
    "\n",
    "    def __init__(self, horizon, n_feats):\n",
    "        params = jnp.zeros(n_feats + horizon)\n",
    "        super().__init__(horizon, params)\n",
    "\n",
    "    @partial(jax.jit, static_argnums=(0,))\n",
    "    def hazard_logits(self, params, xs):\n",
    "        return (\n",
    "            jnp.expand_dims(params[xs], axis=1)\n",
    "            + params[-self.horizon :]\n",
    "            #jnp.tile(jnp.expand_dims(params[xs], axis=1), (self.horizon,))\n",
    "        )\n",
    "\n",
    "    def score(self, xs):\n",
    "        return -self.params[xs]"
   ]
  },
  {
   "cell_type": "code",
   "execution_count": 3,
   "id": "59b3deba",
   "metadata": {},
   "outputs": [],
   "source": [
    "# Hazard probability for two central states A & B.\n",
    "hazards = np.array([0.02, 0.04])\n",
    "# Horizon & observation window.\n",
    "horizon = 5\n",
    "# Central states replicas.\n",
    "n_replicas = 10\n",
    "offset = 2 * n_replicas\n",
    "\n",
    "def gen_data(trt, p, n, horizon, rng):\n",
    "    seqs = -np.ones((n, horizon + 1), dtype=int)\n",
    "    ts = np.zeros(n, dtype=int)\n",
    "    cs = np.zeros(n, dtype=bool)\n",
    "    for i in range(n):\n",
    "        nxt = int(rng.random() < p)  # Index of state A or B.\n",
    "        t = rng.geometric(hazards[nxt])\n",
    "        seqs[i, 0] = trt + offset  # Offset by 2 to acocunt for central states.\n",
    "        seqs[i, 1 : (t + 1)] = n_replicas * nxt + rng.choice(n_replicas)\n",
    "        # Account for limited observation window (censor if necessary).\n",
    "        ts[i] = min(1 + t, horizon)\n",
    "        cs[i] = t >= horizon\n",
    "    return seqs, ts, cs"
   ]
  },
  {
   "cell_type": "code",
   "execution_count": 4,
   "id": "161fc1e9",
   "metadata": {},
   "outputs": [
    {
     "data": {
      "text/plain": [
       "array([0.92236816, 0.84934656])"
      ]
     },
     "execution_count": 4,
     "metadata": {},
     "output_type": "execute_result"
    }
   ],
   "source": [
    "# Fraction of observations that will be censored at central states\n",
    "(1 - hazards)**(horizon - 1)"
   ]
  },
  {
   "cell_type": "code",
   "execution_count": 5,
   "id": "54ecac3c",
   "metadata": {},
   "outputs": [
    {
     "name": "stderr",
     "output_type": "stream",
     "text": [
      "WARNING:absl:No GPU/TPU found, falling back to CPU. (Set TF_CPP_MIN_LOG_LEVEL=0 and rerun for more info.)\n"
     ]
    },
    {
     "name": "stdout",
     "output_type": "stream",
     "text": [
      "..........\n",
      "..........\n",
      "..........\n",
      "..........\n",
      "..........\n",
      "..........\n",
      "..........\n",
      "..........\n",
      "..........\n",
      "..........\n",
      "CPU times: user 3min 33s, sys: 3.45 s, total: 3min 36s\n",
      "Wall time: 2min 9s\n"
     ]
    }
   ],
   "source": [
    "%%time\n",
    "rng = np.random.default_rng(seed=0)\n",
    "\n",
    "# Maximum number of treatments.\n",
    "n_treatments = 1000\n",
    "# Samples per treatment\n",
    "n_samples = 10\n",
    "# Cutoffs for training.\n",
    "cutoffs = np.insert(np.geomspace(10, n_treatments, 10, dtype=int), 0, 0)\n",
    "\n",
    "n_repetitions = 10\n",
    "res_td = np.zeros((n_repetitions, 10))\n",
    "res_mc = np.zeros((n_repetitions, 10))\n",
    "\n",
    "for i in range(n_repetitions):\n",
    "    # Probability of moving to state A.\n",
    "    ps = rng.random(n_treatments)\n",
    "    model_td = SparseCoxPH(horizon, n_treatments + offset)\n",
    "    model_mc = SparseCoxPH(horizon, n_treatments + offset)\n",
    "    seqs = np.zeros((0, 2), dtype=int)\n",
    "    ts = np.zeros(0, dtype=int)\n",
    "    cs = np.zeros(0, dtype=bool)\n",
    "    for j, (z1, z2) in enumerate(zip(cutoffs, cutoffs[1:])):\n",
    "        print(\".\", end=\"\", flush=True)\n",
    "        for trt in np.arange(z1, z2):\n",
    "            seqs_, ts_, cs_ = unroll(*gen_data(trt, ps[trt], n_samples, horizon, rng), compress=True)\n",
    "            seqs = np.concatenate((seqs, seqs_))\n",
    "            ts = np.concatenate((ts, ts_))\n",
    "            cs = np.concatenate((cs, cs_))\n",
    "        model_td.fit(seqs, ts, cs, lambda_=0.0, l2=1.0, n_iters=10)\n",
    "        model_mc.fit(seqs, ts, cs, lambda_=1.0, l2=1.0)\n",
    "        res_td[i, j] = corr(model_td.params[offset : offset + z2], ps[:z2])\n",
    "        res_mc[i, j] = corr(model_mc.params[offset : offset + z2], ps[:z2])\n",
    "    print()"
   ]
  },
  {
   "cell_type": "code",
   "execution_count": 6,
   "id": "34e6004d-1693-4f77-907d-1b6289bf179d",
   "metadata": {},
   "outputs": [
    {
     "data": {
      "text/plain": [
       "(0.0, 1.0)"
      ]
     },
     "execution_count": 6,
     "metadata": {},
     "output_type": "execute_result"
    },
    {
     "data": {
      "image/png": "[encoded data removed]",
      "text/plain": [
       "<Figure size 720x432 with 1 Axes>"
      ]
     },
     "metadata": {
      "needs_background": "light"
     },
     "output_type": "display_data"
    }
   ],
   "source": [
    "fig, ax = plt.subplots(figsize=(10, 6))\n",
    "\n",
    "xs = cutoffs[1:]\n",
    "\n",
    "ax.errorbar(\n",
    "    x=xs,\n",
    "    y=np.mean(res_mc, axis=0),\n",
    "    yerr=np.std(res_mc, axis=0) / np.sqrt(n_repetitions),\n",
    "    marker=\"o\",\n",
    "    markersize=4,\n",
    "    capsize=4,\n",
    "    label=\"Landmarking\",\n",
    ")\n",
    "ax.errorbar(\n",
    "    x=xs,\n",
    "    y=np.mean(res_td, axis=0),\n",
    "    yerr=np.std(res_td, axis=0) / np.sqrt(n_repetitions),\n",
    "    marker=\"o\",\n",
    "    markersize=4,\n",
    "    capsize=4,\n",
    "    label=\"TCSR\",\n",
    ")\n",
    "ax.grid(axis=\"both\", which=\"both\")\n",
    "ax.legend()\n",
    "ax.set_xlabel(\"Number of treatments\")\n",
    "ax.set_ylabel(\"Kendall-tau correlation\")\n",
    "ax.set_title(\"Correlation between estimated and true treatment effect\")\n",
    "ax.set_xscale(\"log\", base=10)\n",
    "ax.set_ylim(bottom=0.0, top=1.0)"
   ]
  },
  {
   "cell_type": "markdown",
   "id": "befd46fd",
   "metadata": {},
   "source": [
    "The plot shows the mean and the standard error over 10 independent experiments."
   ]
  },
  {
   "cell_type": "code",
   "execution_count": 7,
   "id": "28e72e66-6c8e-4439-8b9f-8753a9a41ed7",
   "metadata": {},
   "outputs": [],
   "source": [
    "with open(\"../data/datapool.pkl\", \"wb\") as f:\n",
    "    pickle.dump({\n",
    "        \"xs\": cutoffs[1:],\n",
    "        \"td\": res_td,\n",
    "        \"mc\": res_mc,\n",
    "    }, f)"
   ]
  }
 ],
 "metadata": {
  "environment": {
   "kernel": "conda-env-tdsurv-py",
   "name": "tf2-gpu.2-8.m91",
   "type": "gcloud",
   "uri": "gcr.io/deeplearning-platform-release/tf2-gpu.2-8:m91"
  },
  "kernelspec": {
   "display_name": "Python 3 (ipykernel)",
   "language": "python",
   "name": "python3"
  },
  "language_info": {
   "codemirror_mode": {
    "name": "ipython",
    "version": 3
   },
   "file_extension": ".py",
   "mimetype": "text/x-python",
   "name": "python",
   "nbconvert_exporter": "python",
   "pygments_lexer": "ipython3",
   "version": "3.9.12"
  }
 },
 "nbformat": 4,
 "nbformat_minor": 5
}
